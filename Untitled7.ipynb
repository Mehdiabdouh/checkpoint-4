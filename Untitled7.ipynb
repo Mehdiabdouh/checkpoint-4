{
 "cells": [
  {
   "cell_type": "code",
   "execution_count": 26,
   "id": "9cab56fd",
   "metadata": {},
   "outputs": [
    {
     "data": {
      "text/plain": [
       "25"
      ]
     },
     "execution_count": 26,
     "metadata": {},
     "output_type": "execute_result"
    }
   ],
   "source": [
    "def maximum(a,b,c):\n",
    "    if a>=b and a>=c:\n",
    "        return (a)\n",
    "    elif b>=a and b>=c:\n",
    "        return (b)\n",
    "    else:\n",
    "        return(c)\n",
    "maximum(25,25,10)\n",
    "    \n",
    "    \n",
    "    "
   ]
  },
  {
   "cell_type": "code",
   "execution_count": 28,
   "id": "705c8de5",
   "metadata": {},
   "outputs": [
    {
     "data": {
      "text/plain": [
       "(5, 1)"
      ]
     },
     "execution_count": 28,
     "metadata": {},
     "output_type": "execute_result"
    }
   ],
   "source": [
    "def calculation(a,b):\n",
    "    x=a+b\n",
    "    y=a-b\n",
    "    return x,y\n",
    "calculation(3,2)\n"
   ]
  },
  {
   "cell_type": "code",
   "execution_count": 75,
   "id": "4e00a9fc",
   "metadata": {},
   "outputs": [],
   "source": [
    "def sums(l):\n",
    "    s=0\n",
    "    for i in l:\n",
    "        s=s+i\n",
    "    return s\n",
    "def mul(f):\n",
    "    x=1\n",
    "    for i in f:\n",
    "        x=x*i\n",
    "    return x\n",
    "def both(j):\n",
    "    for i in j:\n",
    "        if i%2==0:\n",
    "            return sums(j)\n",
    "        elif i%2!=0:\n",
    "            return mul(j)\n",
    "        \n",
    "def both(j):\n",
    "    p=[]\n",
    "    I=[]\n",
    "    for i in range (len(j)):\n",
    "        if i%2==0:\n",
    "            p.append(j[i])\n",
    "        elif i%2!=0:\n",
    "            I.append(j[i])\n",
    "    return sums(p),mul(I)\n",
    "\n",
    "    \n",
    "            \n",
    "         \n",
    "       \n",
    "        \n",
    "    \n",
    "\n",
    "\n",
    "\n"
   ]
  },
  {
   "cell_type": "code",
   "execution_count": 77,
   "id": "384920da",
   "metadata": {},
   "outputs": [
    {
     "data": {
      "text/plain": [
       "(9, 8)"
      ]
     },
     "execution_count": 77,
     "metadata": {},
     "output_type": "execute_result"
    }
   ],
   "source": [
    "both([1,2,3,4,5,])"
   ]
  },
  {
   "cell_type": "code",
   "execution_count": 61,
   "id": "5576edf2",
   "metadata": {},
   "outputs": [
    {
     "data": {
      "text/plain": [
       "17"
      ]
     },
     "execution_count": 61,
     "metadata": {},
     "output_type": "execute_result"
    }
   ],
   "source": [
    "sums([1,6,10])"
   ]
  },
  {
   "cell_type": "code",
   "execution_count": 62,
   "id": "965b3735",
   "metadata": {},
   "outputs": [
    {
     "data": {
      "text/plain": [
       "150"
      ]
     },
     "execution_count": 62,
     "metadata": {},
     "output_type": "execute_result"
    }
   ],
   "source": [
    "mul([10,5,3])"
   ]
  },
  {
   "cell_type": "code",
   "execution_count": 88,
   "id": "d0e68bb4",
   "metadata": {},
   "outputs": [
    {
     "name": "stdout",
     "output_type": "stream",
     "text": [
      "green-red-yellow-black-white\n",
      "black-green-red-white-yellow\n"
     ]
    }
   ],
   "source": [
    "i=[n for n in input().split('-')]\n",
    "i.sort()\n",
    "print('-'.join(i))\n"
   ]
  },
  {
   "cell_type": "code",
   "execution_count": 4,
   "id": "358f673b",
   "metadata": {},
   "outputs": [
    {
     "name": "stdout",
     "output_type": "stream",
     "text": [
      "Provide D: 26\n",
      "[9]\n"
     ]
    }
   ],
   "source": [
    "\n",
    "numbers = input(\"Provide D: \")\n",
    "numbers = numbers.split(',')\n",
    "\n",
    "result_list = []\n",
    "for D in numbers:\n",
    "    Q = round(math.sqrt(2 * 50 * int(D) / 30))\n",
    "    result_list.append(Q)\n",
    "\n",
    "print(result_list)"
   ]
  },
  {
   "cell_type": "code",
   "execution_count": null,
   "id": "c016a691",
   "metadata": {},
   "outputs": [],
   "source": []
  }
 ],
 "metadata": {
  "kernelspec": {
   "display_name": "Python 3",
   "language": "python",
   "name": "python3"
  },
  "language_info": {
   "codemirror_mode": {
    "name": "ipython",
    "version": 3
   },
   "file_extension": ".py",
   "mimetype": "text/x-python",
   "name": "python",
   "nbconvert_exporter": "python",
   "pygments_lexer": "ipython3",
   "version": "3.8.8"
  }
 },
 "nbformat": 4,
 "nbformat_minor": 5
}
